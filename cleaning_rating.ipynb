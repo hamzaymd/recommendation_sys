{
 "cells": [
  {
   "cell_type": "code",
   "execution_count": 1,
   "metadata": {},
   "outputs": [],
   "source": [
    "import pandas as pd"
   ]
  },
  {
   "cell_type": "code",
   "execution_count": 3,
   "metadata": {},
   "outputs": [],
   "source": [
    "ratings_df = pd.read_excel('DATA\\clean_rating2.xlsx')"
   ]
  },
  {
   "cell_type": "code",
   "execution_count": 4,
   "metadata": {},
   "outputs": [],
   "source": [
    "ratings_df.rename(columns={'User-ID': 'userID'}, inplace=True)"
   ]
  },
  {
   "cell_type": "code",
   "execution_count": 8,
   "metadata": {},
   "outputs": [
    {
     "data": {
      "text/plain": [
       "userID               int64\n",
       "Book-Rating          int64\n",
       "Publication Year     int64\n",
       "num_of_rating        int64\n",
       "ISBN_encoded         int64\n",
       "Title_encoded        int64\n",
       "author_encoded       int64\n",
       "image_encoded        int64\n",
       "publisher_encoded    int64\n",
       "dtype: object"
      ]
     },
     "execution_count": 8,
     "metadata": {},
     "output_type": "execute_result"
    }
   ],
   "source": [
    "ratings_df.dtypes"
   ]
  },
  {
   "cell_type": "code",
   "execution_count": 6,
   "metadata": {},
   "outputs": [
    {
     "name": "stdout",
     "output_type": "stream",
     "text": [
      "   userID        ISBN  Book-Rating                            Title  \\\n",
      "0  277427  0060930535            0  \"The Poisonwood Bible: A Novel\"   \n",
      "1     254  0060930535            0  \"The Poisonwood Bible: A Novel\"   \n",
      "2    6251  0060930535            0  \"The Poisonwood Bible: A Novel\"   \n",
      "3    7346  0060930535            0  \"The Poisonwood Bible: A Novel\"   \n",
      "4   11676  0060930535            0  \"The Poisonwood Bible: A Novel\"   \n",
      "\n",
      "                 Author  Publication Year    Publisher  \\\n",
      "0  \"Barbara Kingsolver\"              1999  \"Perennial\"   \n",
      "1  \"Barbara Kingsolver\"              1999  \"Perennial\"   \n",
      "2  \"Barbara Kingsolver\"              1999  \"Perennial\"   \n",
      "3  \"Barbara Kingsolver\"              1999  \"Perennial\"   \n",
      "4  \"Barbara Kingsolver\"              1999  \"Perennial\"   \n",
      "\n",
      "                                               Image  num_of_rating  \\\n",
      "0  \"http://images.amazon.com/images/P/0060930535....            133   \n",
      "1  \"http://images.amazon.com/images/P/0060930535....            133   \n",
      "2  \"http://images.amazon.com/images/P/0060930535....            133   \n",
      "3  \"http://images.amazon.com/images/P/0060930535....            133   \n",
      "4  \"http://images.amazon.com/images/P/0060930535....            133   \n",
      "\n",
      "   ISBN_encoded  Title_encoded  author_encoded  image_encoded  \\\n",
      "0             0              0               0            132   \n",
      "1             0              0               0            132   \n",
      "2             0              0               0            132   \n",
      "3             0              0               0            132   \n",
      "4             0              0               0            132   \n",
      "\n",
      "   publisher_encoded  \n",
      "0              51294  \n",
      "1              51294  \n",
      "2              51294  \n",
      "3              51294  \n",
      "4              51294  \n"
     ]
    }
   ],
   "source": [
    "ISBN_dict = {x: i for i, x in enumerate(ratings_df['ISBN'].unique())}\n",
    "Title_dict = {x: i for i, x in enumerate(ratings_df['Title'].unique())}\n",
    "author_dict = {x: i for i, x in enumerate(ratings_df['Author'].unique())}\n",
    "Image_dict = {x: i for i, x in enumerate(ratings_df['Image'])}\n",
    "publisher_dict = {x: i for i, x in enumerate(ratings_df['Publisher'])}\n",
    "\n",
    "\n",
    "\n",
    "\n",
    "# Replace values with numerical labels using dictionaries\n",
    "ratings_df['ISBN_encoded'] = ratings_df['ISBN'].map(ISBN_dict)\n",
    "ratings_df['Title_encoded'] = ratings_df['Title'].map(Title_dict)\n",
    "ratings_df['author_encoded'] = ratings_df['Author'].map(author_dict)\n",
    "ratings_df['image_encoded'] = ratings_df['Image'].map(Image_dict)\n",
    "ratings_df['publisher_encoded'] = ratings_df['Publisher'].map(publisher_dict)\n",
    "\n",
    "\n",
    "# Display the modified DataFrame\n",
    "print(ratings_df.head())"
   ]
  },
  {
   "cell_type": "code",
   "execution_count": 7,
   "metadata": {},
   "outputs": [],
   "source": [
    "ratings_df = ratings_df.drop(\"Author\", axis=1)\n",
    "ratings_df = ratings_df.drop(\"Title\", axis=1)\n",
    "ratings_df = ratings_df.drop(\"Image\", axis=1)\n",
    "ratings_df = ratings_df.drop(\"Publisher\", axis=1)\n",
    "ratings_df = ratings_df.drop(\"ISBN\", axis=1)\n",
    "\n"
   ]
  },
  {
   "cell_type": "code",
   "execution_count": 9,
   "metadata": {},
   "outputs": [],
   "source": [
    "ratings_df.to_excel(\"clean_rating3.xlsx\", index=False)"
   ]
  }
 ],
 "metadata": {
  "kernelspec": {
   "display_name": "base",
   "language": "python",
   "name": "python3"
  },
  "language_info": {
   "codemirror_mode": {
    "name": "ipython",
    "version": 3
   },
   "file_extension": ".py",
   "mimetype": "text/x-python",
   "name": "python",
   "nbconvert_exporter": "python",
   "pygments_lexer": "ipython3",
   "version": "3.11.7"
  }
 },
 "nbformat": 4,
 "nbformat_minor": 2
}
