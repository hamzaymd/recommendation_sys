{
 "cells": [
  {
   "cell_type": "code",
   "execution_count": 3,
   "metadata": {},
   "outputs": [],
   "source": [
    "import pandas as pd\n"
   ]
  },
  {
   "cell_type": "code",
   "execution_count": 4,
   "metadata": {},
   "outputs": [],
   "source": [
    "df = pd.read_excel('DATA\\clean_Books.xlsx')"
   ]
  },
  {
   "cell_type": "code",
   "execution_count": 5,
   "metadata": {},
   "outputs": [
    {
     "data": {
      "text/plain": [
       "Index(['ISBN', 'Book-Title', 'Book-Author', 'Year-Of-Publication', 'Publisher',\n",
       "       'Image-URL-L'],\n",
       "      dtype='object')"
      ]
     },
     "execution_count": 5,
     "metadata": {},
     "output_type": "execute_result"
    }
   ],
   "source": [
    "df.columns"
   ]
  },
  {
   "cell_type": "code",
   "execution_count": 6,
   "metadata": {},
   "outputs": [],
   "source": [
    "df = df[df[\"Year-Of-Publication\"].str.len() == 6]"
   ]
  },
  {
   "cell_type": "code",
   "execution_count": 7,
   "metadata": {},
   "outputs": [],
   "source": [
    "df['Year-Of-Publication'] = df['Year-Of-Publication'].str.replace('\"', '')\n"
   ]
  },
  {
   "cell_type": "code",
   "execution_count": 11,
   "metadata": {},
   "outputs": [
    {
     "data": {
      "text/plain": [
       "(219036, 6)"
      ]
     },
     "execution_count": 11,
     "metadata": {},
     "output_type": "execute_result"
    }
   ],
   "source": [
    "df.shape"
   ]
  },
  {
   "cell_type": "code",
   "execution_count": 15,
   "metadata": {},
   "outputs": [
    {
     "data": {
      "text/plain": [
       "Index(['ISBN', 'Book-Title', 'Book-Author', 'Year-Of-Publication', 'Publisher',\n",
       "       'Image-URL-L'],\n",
       "      dtype='object')"
      ]
     },
     "execution_count": 15,
     "metadata": {},
     "output_type": "execute_result"
    }
   ],
   "source": [
    "df.columns"
   ]
  },
  {
   "cell_type": "code",
   "execution_count": 10,
   "metadata": {},
   "outputs": [],
   "source": [
    "df.drop_duplicates(subset='Image-URL-L', keep=False, inplace=True)\n"
   ]
  },
  {
   "cell_type": "code",
   "execution_count": 12,
   "metadata": {},
   "outputs": [],
   "source": [
    "df = df.dropna(subset=['Publisher'])\n"
   ]
  },
  {
   "cell_type": "code",
   "execution_count": 13,
   "metadata": {},
   "outputs": [],
   "source": [
    "df.rename(columns={'Book-Title': 'Title', 'Book-Author': 'Author', 'Year-Of-Publication': 'Publication Year','Image-URL-L':'Image'}, inplace=True)\n"
   ]
  },
  {
   "cell_type": "code",
   "execution_count": 27,
   "metadata": {},
   "outputs": [],
   "source": [
    "ratings = pd.read_csv(\"DATA\\BX-Book-Ratings.csv\", sep=';', encoding=\"latin-1\")"
   ]
  },
  {
   "cell_type": "code",
   "execution_count": 28,
   "metadata": {},
   "outputs": [
    {
     "data": {
      "text/html": [
       "<div>\n",
       "<style scoped>\n",
       "    .dataframe tbody tr th:only-of-type {\n",
       "        vertical-align: middle;\n",
       "    }\n",
       "\n",
       "    .dataframe tbody tr th {\n",
       "        vertical-align: top;\n",
       "    }\n",
       "\n",
       "    .dataframe thead th {\n",
       "        text-align: right;\n",
       "    }\n",
       "</style>\n",
       "<table border=\"1\" class=\"dataframe\">\n",
       "  <thead>\n",
       "    <tr style=\"text-align: right;\">\n",
       "      <th></th>\n",
       "      <th>User-ID</th>\n",
       "      <th>ISBN</th>\n",
       "      <th>Book-Rating</th>\n",
       "    </tr>\n",
       "  </thead>\n",
       "  <tbody>\n",
       "    <tr>\n",
       "      <th>0</th>\n",
       "      <td>276725</td>\n",
       "      <td>034545104X</td>\n",
       "      <td>0</td>\n",
       "    </tr>\n",
       "    <tr>\n",
       "      <th>1</th>\n",
       "      <td>276726</td>\n",
       "      <td>0155061224</td>\n",
       "      <td>5</td>\n",
       "    </tr>\n",
       "    <tr>\n",
       "      <th>2</th>\n",
       "      <td>276727</td>\n",
       "      <td>0446520802</td>\n",
       "      <td>0</td>\n",
       "    </tr>\n",
       "    <tr>\n",
       "      <th>3</th>\n",
       "      <td>276729</td>\n",
       "      <td>052165615X</td>\n",
       "      <td>3</td>\n",
       "    </tr>\n",
       "    <tr>\n",
       "      <th>4</th>\n",
       "      <td>276729</td>\n",
       "      <td>0521795028</td>\n",
       "      <td>6</td>\n",
       "    </tr>\n",
       "  </tbody>\n",
       "</table>\n",
       "</div>"
      ],
      "text/plain": [
       "   User-ID        ISBN  Book-Rating\n",
       "0   276725  034545104X            0\n",
       "1   276726  0155061224            5\n",
       "2   276727  0446520802            0\n",
       "3   276729  052165615X            3\n",
       "4   276729  0521795028            6"
      ]
     },
     "execution_count": 28,
     "metadata": {},
     "output_type": "execute_result"
    }
   ],
   "source": [
    "ratings.head()"
   ]
  },
  {
   "cell_type": "code",
   "execution_count": 30,
   "metadata": {},
   "outputs": [
    {
     "data": {
      "text/plain": [
       "(899,)"
      ]
     },
     "execution_count": 30,
     "metadata": {},
     "output_type": "execute_result"
    }
   ],
   "source": [
    "x=ratings['User-ID'].value_counts() > 200\n",
    "x[x].shape"
   ]
  },
  {
   "cell_type": "code",
   "execution_count": 31,
   "metadata": {},
   "outputs": [
    {
     "data": {
      "text/plain": [
       "Index([ 11676, 198711, 153662,  98391,  35859, 212898, 278418,  76352, 110973,\n",
       "       235105,\n",
       "       ...\n",
       "       260183,  73681,  44296, 155916,   9856, 274808,  28634,  59727, 268622,\n",
       "       188951],\n",
       "      dtype='int64', name='User-ID', length=899)"
      ]
     },
     "execution_count": 31,
     "metadata": {},
     "output_type": "execute_result"
    }
   ],
   "source": [
    "y= x[x].index\n",
    "y"
   ]
  },
  {
   "cell_type": "code",
   "execution_count": 32,
   "metadata": {},
   "outputs": [],
   "source": [
    "ratings = ratings[ratings['User-ID'].isin(y)]"
   ]
  },
  {
   "cell_type": "code",
   "execution_count": 34,
   "metadata": {},
   "outputs": [],
   "source": [
    "ratings_with_books = ratings.merge(df, on='ISBN')"
   ]
  },
  {
   "cell_type": "code",
   "execution_count": 36,
   "metadata": {},
   "outputs": [
    {
     "data": {
      "text/plain": [
       "Index(['User-ID', 'ISBN', 'Book-Rating', 'Title', 'Author', 'Publication Year',\n",
       "       'Publisher', 'Image'],\n",
       "      dtype='object')"
      ]
     },
     "execution_count": 36,
     "metadata": {},
     "output_type": "execute_result"
    }
   ],
   "source": [
    "ratings_with_books.columns"
   ]
  },
  {
   "cell_type": "code",
   "execution_count": 37,
   "metadata": {},
   "outputs": [
    {
     "data": {
      "text/html": [
       "<div>\n",
       "<style scoped>\n",
       "    .dataframe tbody tr th:only-of-type {\n",
       "        vertical-align: middle;\n",
       "    }\n",
       "\n",
       "    .dataframe tbody tr th {\n",
       "        vertical-align: top;\n",
       "    }\n",
       "\n",
       "    .dataframe thead th {\n",
       "        text-align: right;\n",
       "    }\n",
       "</style>\n",
       "<table border=\"1\" class=\"dataframe\">\n",
       "  <thead>\n",
       "    <tr style=\"text-align: right;\">\n",
       "      <th></th>\n",
       "      <th>Title</th>\n",
       "      <th>Book-Rating</th>\n",
       "    </tr>\n",
       "  </thead>\n",
       "  <tbody>\n",
       "    <tr>\n",
       "      <th>0</th>\n",
       "      <td>\" Always Have Popsicles\"</td>\n",
       "      <td>1</td>\n",
       "    </tr>\n",
       "    <tr>\n",
       "      <th>1</th>\n",
       "      <td>\" Apple Magic (The Collector's series)\"</td>\n",
       "      <td>1</td>\n",
       "    </tr>\n",
       "    <tr>\n",
       "      <th>2</th>\n",
       "      <td>\" Clifford Visita El Hospital (Clifford El Gra...</td>\n",
       "      <td>1</td>\n",
       "    </tr>\n",
       "    <tr>\n",
       "      <th>3</th>\n",
       "      <td>\" Dark Justice\"</td>\n",
       "      <td>1</td>\n",
       "    </tr>\n",
       "    <tr>\n",
       "      <th>4</th>\n",
       "      <td>\" Deceived\"</td>\n",
       "      <td>1</td>\n",
       "    </tr>\n",
       "  </tbody>\n",
       "</table>\n",
       "</div>"
      ],
      "text/plain": [
       "                                               Title  Book-Rating\n",
       "0                           \" Always Have Popsicles\"            1\n",
       "1            \" Apple Magic (The Collector's series)\"            1\n",
       "2  \" Clifford Visita El Hospital (Clifford El Gra...            1\n",
       "3                                    \" Dark Justice\"            1\n",
       "4                                        \" Deceived\"            1"
      ]
     },
     "execution_count": 37,
     "metadata": {},
     "output_type": "execute_result"
    }
   ],
   "source": [
    "number_rating = ratings_with_books.groupby('Title')['Book-Rating'].count().reset_index()\n",
    "number_rating.head()"
   ]
  },
  {
   "cell_type": "code",
   "execution_count": 38,
   "metadata": {},
   "outputs": [
    {
     "data": {
      "text/html": [
       "<div>\n",
       "<style scoped>\n",
       "    .dataframe tbody tr th:only-of-type {\n",
       "        vertical-align: middle;\n",
       "    }\n",
       "\n",
       "    .dataframe tbody tr th {\n",
       "        vertical-align: top;\n",
       "    }\n",
       "\n",
       "    .dataframe thead th {\n",
       "        text-align: right;\n",
       "    }\n",
       "</style>\n",
       "<table border=\"1\" class=\"dataframe\">\n",
       "  <thead>\n",
       "    <tr style=\"text-align: right;\">\n",
       "      <th></th>\n",
       "      <th>Title</th>\n",
       "      <th>num_of_rating</th>\n",
       "    </tr>\n",
       "  </thead>\n",
       "  <tbody>\n",
       "    <tr>\n",
       "      <th>0</th>\n",
       "      <td>\" Always Have Popsicles\"</td>\n",
       "      <td>1</td>\n",
       "    </tr>\n",
       "    <tr>\n",
       "      <th>1</th>\n",
       "      <td>\" Apple Magic (The Collector's series)\"</td>\n",
       "      <td>1</td>\n",
       "    </tr>\n",
       "    <tr>\n",
       "      <th>2</th>\n",
       "      <td>\" Clifford Visita El Hospital (Clifford El Gra...</td>\n",
       "      <td>1</td>\n",
       "    </tr>\n",
       "    <tr>\n",
       "      <th>3</th>\n",
       "      <td>\" Dark Justice\"</td>\n",
       "      <td>1</td>\n",
       "    </tr>\n",
       "    <tr>\n",
       "      <th>4</th>\n",
       "      <td>\" Deceived\"</td>\n",
       "      <td>1</td>\n",
       "    </tr>\n",
       "  </tbody>\n",
       "</table>\n",
       "</div>"
      ],
      "text/plain": [
       "                                               Title  num_of_rating\n",
       "0                           \" Always Have Popsicles\"              1\n",
       "1            \" Apple Magic (The Collector's series)\"              1\n",
       "2  \" Clifford Visita El Hospital (Clifford El Gra...              1\n",
       "3                                    \" Dark Justice\"              1\n",
       "4                                        \" Deceived\"              1"
      ]
     },
     "execution_count": 38,
     "metadata": {},
     "output_type": "execute_result"
    }
   ],
   "source": [
    "number_rating.rename(columns={'Book-Rating':'num_of_rating'},inplace=True)\n",
    "number_rating.head()"
   ]
  },
  {
   "cell_type": "code",
   "execution_count": 40,
   "metadata": {},
   "outputs": [
    {
     "data": {
      "text/html": [
       "<div>\n",
       "<style scoped>\n",
       "    .dataframe tbody tr th:only-of-type {\n",
       "        vertical-align: middle;\n",
       "    }\n",
       "\n",
       "    .dataframe tbody tr th {\n",
       "        vertical-align: top;\n",
       "    }\n",
       "\n",
       "    .dataframe thead th {\n",
       "        text-align: right;\n",
       "    }\n",
       "</style>\n",
       "<table border=\"1\" class=\"dataframe\">\n",
       "  <thead>\n",
       "    <tr style=\"text-align: right;\">\n",
       "      <th></th>\n",
       "      <th>User-ID</th>\n",
       "      <th>ISBN</th>\n",
       "      <th>Book-Rating</th>\n",
       "      <th>Title</th>\n",
       "      <th>Author</th>\n",
       "      <th>Publication Year</th>\n",
       "      <th>Publisher</th>\n",
       "      <th>Image</th>\n",
       "      <th>num_of_rating</th>\n",
       "    </tr>\n",
       "  </thead>\n",
       "  <tbody>\n",
       "    <tr>\n",
       "      <th>0</th>\n",
       "      <td>277427</td>\n",
       "      <td>0026217457</td>\n",
       "      <td>0</td>\n",
       "      <td>\"Vegetarian Times Complete Cookbook\"</td>\n",
       "      <td>\"Lucy  Moll\"</td>\n",
       "      <td>1995</td>\n",
       "      <td>\"John Wiley &amp;amp</td>\n",
       "      <td>\"http://images.amazon.com/images/P/0026217457....</td>\n",
       "      <td>7</td>\n",
       "    </tr>\n",
       "    <tr>\n",
       "      <th>1</th>\n",
       "      <td>49889</td>\n",
       "      <td>0026217457</td>\n",
       "      <td>0</td>\n",
       "      <td>\"Vegetarian Times Complete Cookbook\"</td>\n",
       "      <td>\"Lucy  Moll\"</td>\n",
       "      <td>1995</td>\n",
       "      <td>\"John Wiley &amp;amp</td>\n",
       "      <td>\"http://images.amazon.com/images/P/0026217457....</td>\n",
       "      <td>7</td>\n",
       "    </tr>\n",
       "    <tr>\n",
       "      <th>2</th>\n",
       "      <td>51883</td>\n",
       "      <td>0026217457</td>\n",
       "      <td>0</td>\n",
       "      <td>\"Vegetarian Times Complete Cookbook\"</td>\n",
       "      <td>\"Lucy  Moll\"</td>\n",
       "      <td>1995</td>\n",
       "      <td>\"John Wiley &amp;amp</td>\n",
       "      <td>\"http://images.amazon.com/images/P/0026217457....</td>\n",
       "      <td>7</td>\n",
       "    </tr>\n",
       "    <tr>\n",
       "      <th>3</th>\n",
       "      <td>98741</td>\n",
       "      <td>0026217457</td>\n",
       "      <td>0</td>\n",
       "      <td>\"Vegetarian Times Complete Cookbook\"</td>\n",
       "      <td>\"Lucy  Moll\"</td>\n",
       "      <td>1995</td>\n",
       "      <td>\"John Wiley &amp;amp</td>\n",
       "      <td>\"http://images.amazon.com/images/P/0026217457....</td>\n",
       "      <td>7</td>\n",
       "    </tr>\n",
       "    <tr>\n",
       "      <th>4</th>\n",
       "      <td>100906</td>\n",
       "      <td>0026217457</td>\n",
       "      <td>8</td>\n",
       "      <td>\"Vegetarian Times Complete Cookbook\"</td>\n",
       "      <td>\"Lucy  Moll\"</td>\n",
       "      <td>1995</td>\n",
       "      <td>\"John Wiley &amp;amp</td>\n",
       "      <td>\"http://images.amazon.com/images/P/0026217457....</td>\n",
       "      <td>7</td>\n",
       "    </tr>\n",
       "    <tr>\n",
       "      <th>5</th>\n",
       "      <td>140036</td>\n",
       "      <td>0026217457</td>\n",
       "      <td>0</td>\n",
       "      <td>\"Vegetarian Times Complete Cookbook\"</td>\n",
       "      <td>\"Lucy  Moll\"</td>\n",
       "      <td>1995</td>\n",
       "      <td>\"John Wiley &amp;amp</td>\n",
       "      <td>\"http://images.amazon.com/images/P/0026217457....</td>\n",
       "      <td>7</td>\n",
       "    </tr>\n",
       "    <tr>\n",
       "      <th>6</th>\n",
       "      <td>142524</td>\n",
       "      <td>0026217457</td>\n",
       "      <td>6</td>\n",
       "      <td>\"Vegetarian Times Complete Cookbook\"</td>\n",
       "      <td>\"Lucy  Moll\"</td>\n",
       "      <td>1995</td>\n",
       "      <td>\"John Wiley &amp;amp</td>\n",
       "      <td>\"http://images.amazon.com/images/P/0026217457....</td>\n",
       "      <td>7</td>\n",
       "    </tr>\n",
       "    <tr>\n",
       "      <th>7</th>\n",
       "      <td>277427</td>\n",
       "      <td>003008685X</td>\n",
       "      <td>8</td>\n",
       "      <td>\"Pioneers\"</td>\n",
       "      <td>\"James Fenimore Cooper\"</td>\n",
       "      <td>1974</td>\n",
       "      <td>\"Thomson Learning\"</td>\n",
       "      <td>\"http://images.amazon.com/images/P/003008685X....</td>\n",
       "      <td>1</td>\n",
       "    </tr>\n",
       "    <tr>\n",
       "      <th>8</th>\n",
       "      <td>277427</td>\n",
       "      <td>0060002050</td>\n",
       "      <td>0</td>\n",
       "      <td>\"On a Wicked Dawn (Cynster Novels)\"</td>\n",
       "      <td>\"Stephanie Laurens\"</td>\n",
       "      <td>2002</td>\n",
       "      <td>\"Avon Books\"</td>\n",
       "      <td>\"http://images.amazon.com/images/P/0060002050....</td>\n",
       "      <td>13</td>\n",
       "    </tr>\n",
       "    <tr>\n",
       "      <th>9</th>\n",
       "      <td>69697</td>\n",
       "      <td>0060002050</td>\n",
       "      <td>0</td>\n",
       "      <td>\"On a Wicked Dawn (Cynster Novels)\"</td>\n",
       "      <td>\"Stephanie Laurens\"</td>\n",
       "      <td>2002</td>\n",
       "      <td>\"Avon Books\"</td>\n",
       "      <td>\"http://images.amazon.com/images/P/0060002050....</td>\n",
       "      <td>13</td>\n",
       "    </tr>\n",
       "    <tr>\n",
       "      <th>10</th>\n",
       "      <td>78783</td>\n",
       "      <td>0060002050</td>\n",
       "      <td>0</td>\n",
       "      <td>\"On a Wicked Dawn (Cynster Novels)\"</td>\n",
       "      <td>\"Stephanie Laurens\"</td>\n",
       "      <td>2002</td>\n",
       "      <td>\"Avon Books\"</td>\n",
       "      <td>\"http://images.amazon.com/images/P/0060002050....</td>\n",
       "      <td>13</td>\n",
       "    </tr>\n",
       "    <tr>\n",
       "      <th>11</th>\n",
       "      <td>98391</td>\n",
       "      <td>0060002050</td>\n",
       "      <td>8</td>\n",
       "      <td>\"On a Wicked Dawn (Cynster Novels)\"</td>\n",
       "      <td>\"Stephanie Laurens\"</td>\n",
       "      <td>2002</td>\n",
       "      <td>\"Avon Books\"</td>\n",
       "      <td>\"http://images.amazon.com/images/P/0060002050....</td>\n",
       "      <td>13</td>\n",
       "    </tr>\n",
       "    <tr>\n",
       "      <th>12</th>\n",
       "      <td>114368</td>\n",
       "      <td>0060002050</td>\n",
       "      <td>5</td>\n",
       "      <td>\"On a Wicked Dawn (Cynster Novels)\"</td>\n",
       "      <td>\"Stephanie Laurens\"</td>\n",
       "      <td>2002</td>\n",
       "      <td>\"Avon Books\"</td>\n",
       "      <td>\"http://images.amazon.com/images/P/0060002050....</td>\n",
       "      <td>13</td>\n",
       "    </tr>\n",
       "    <tr>\n",
       "      <th>13</th>\n",
       "      <td>131046</td>\n",
       "      <td>0060002050</td>\n",
       "      <td>0</td>\n",
       "      <td>\"On a Wicked Dawn (Cynster Novels)\"</td>\n",
       "      <td>\"Stephanie Laurens\"</td>\n",
       "      <td>2002</td>\n",
       "      <td>\"Avon Books\"</td>\n",
       "      <td>\"http://images.amazon.com/images/P/0060002050....</td>\n",
       "      <td>13</td>\n",
       "    </tr>\n",
       "    <tr>\n",
       "      <th>14</th>\n",
       "      <td>145619</td>\n",
       "      <td>0060002050</td>\n",
       "      <td>0</td>\n",
       "      <td>\"On a Wicked Dawn (Cynster Novels)\"</td>\n",
       "      <td>\"Stephanie Laurens\"</td>\n",
       "      <td>2002</td>\n",
       "      <td>\"Avon Books\"</td>\n",
       "      <td>\"http://images.amazon.com/images/P/0060002050....</td>\n",
       "      <td>13</td>\n",
       "    </tr>\n",
       "    <tr>\n",
       "      <th>15</th>\n",
       "      <td>182085</td>\n",
       "      <td>0060002050</td>\n",
       "      <td>0</td>\n",
       "      <td>\"On a Wicked Dawn (Cynster Novels)\"</td>\n",
       "      <td>\"Stephanie Laurens\"</td>\n",
       "      <td>2002</td>\n",
       "      <td>\"Avon Books\"</td>\n",
       "      <td>\"http://images.amazon.com/images/P/0060002050....</td>\n",
       "      <td>13</td>\n",
       "    </tr>\n",
       "    <tr>\n",
       "      <th>16</th>\n",
       "      <td>182086</td>\n",
       "      <td>0060002050</td>\n",
       "      <td>10</td>\n",
       "      <td>\"On a Wicked Dawn (Cynster Novels)\"</td>\n",
       "      <td>\"Stephanie Laurens\"</td>\n",
       "      <td>2002</td>\n",
       "      <td>\"Avon Books\"</td>\n",
       "      <td>\"http://images.amazon.com/images/P/0060002050....</td>\n",
       "      <td>13</td>\n",
       "    </tr>\n",
       "    <tr>\n",
       "      <th>17</th>\n",
       "      <td>226545</td>\n",
       "      <td>0060002050</td>\n",
       "      <td>0</td>\n",
       "      <td>\"On a Wicked Dawn (Cynster Novels)\"</td>\n",
       "      <td>\"Stephanie Laurens\"</td>\n",
       "      <td>2002</td>\n",
       "      <td>\"Avon Books\"</td>\n",
       "      <td>\"http://images.amazon.com/images/P/0060002050....</td>\n",
       "      <td>13</td>\n",
       "    </tr>\n",
       "    <tr>\n",
       "      <th>18</th>\n",
       "      <td>228764</td>\n",
       "      <td>0060002050</td>\n",
       "      <td>0</td>\n",
       "      <td>\"On a Wicked Dawn (Cynster Novels)\"</td>\n",
       "      <td>\"Stephanie Laurens\"</td>\n",
       "      <td>2002</td>\n",
       "      <td>\"Avon Books\"</td>\n",
       "      <td>\"http://images.amazon.com/images/P/0060002050....</td>\n",
       "      <td>13</td>\n",
       "    </tr>\n",
       "    <tr>\n",
       "      <th>19</th>\n",
       "      <td>242006</td>\n",
       "      <td>0060002050</td>\n",
       "      <td>10</td>\n",
       "      <td>\"On a Wicked Dawn (Cynster Novels)\"</td>\n",
       "      <td>\"Stephanie Laurens\"</td>\n",
       "      <td>2002</td>\n",
       "      <td>\"Avon Books\"</td>\n",
       "      <td>\"http://images.amazon.com/images/P/0060002050....</td>\n",
       "      <td>13</td>\n",
       "    </tr>\n",
       "  </tbody>\n",
       "</table>\n",
       "</div>"
      ],
      "text/plain": [
       "    User-ID        ISBN  Book-Rating                                 Title  \\\n",
       "0    277427  0026217457            0  \"Vegetarian Times Complete Cookbook\"   \n",
       "1     49889  0026217457            0  \"Vegetarian Times Complete Cookbook\"   \n",
       "2     51883  0026217457            0  \"Vegetarian Times Complete Cookbook\"   \n",
       "3     98741  0026217457            0  \"Vegetarian Times Complete Cookbook\"   \n",
       "4    100906  0026217457            8  \"Vegetarian Times Complete Cookbook\"   \n",
       "5    140036  0026217457            0  \"Vegetarian Times Complete Cookbook\"   \n",
       "6    142524  0026217457            6  \"Vegetarian Times Complete Cookbook\"   \n",
       "7    277427  003008685X            8                            \"Pioneers\"   \n",
       "8    277427  0060002050            0   \"On a Wicked Dawn (Cynster Novels)\"   \n",
       "9     69697  0060002050            0   \"On a Wicked Dawn (Cynster Novels)\"   \n",
       "10    78783  0060002050            0   \"On a Wicked Dawn (Cynster Novels)\"   \n",
       "11    98391  0060002050            8   \"On a Wicked Dawn (Cynster Novels)\"   \n",
       "12   114368  0060002050            5   \"On a Wicked Dawn (Cynster Novels)\"   \n",
       "13   131046  0060002050            0   \"On a Wicked Dawn (Cynster Novels)\"   \n",
       "14   145619  0060002050            0   \"On a Wicked Dawn (Cynster Novels)\"   \n",
       "15   182085  0060002050            0   \"On a Wicked Dawn (Cynster Novels)\"   \n",
       "16   182086  0060002050           10   \"On a Wicked Dawn (Cynster Novels)\"   \n",
       "17   226545  0060002050            0   \"On a Wicked Dawn (Cynster Novels)\"   \n",
       "18   228764  0060002050            0   \"On a Wicked Dawn (Cynster Novels)\"   \n",
       "19   242006  0060002050           10   \"On a Wicked Dawn (Cynster Novels)\"   \n",
       "\n",
       "                     Author Publication Year           Publisher  \\\n",
       "0              \"Lucy  Moll\"             1995    \"John Wiley &amp   \n",
       "1              \"Lucy  Moll\"             1995    \"John Wiley &amp   \n",
       "2              \"Lucy  Moll\"             1995    \"John Wiley &amp   \n",
       "3              \"Lucy  Moll\"             1995    \"John Wiley &amp   \n",
       "4              \"Lucy  Moll\"             1995    \"John Wiley &amp   \n",
       "5              \"Lucy  Moll\"             1995    \"John Wiley &amp   \n",
       "6              \"Lucy  Moll\"             1995    \"John Wiley &amp   \n",
       "7   \"James Fenimore Cooper\"             1974  \"Thomson Learning\"   \n",
       "8       \"Stephanie Laurens\"             2002        \"Avon Books\"   \n",
       "9       \"Stephanie Laurens\"             2002        \"Avon Books\"   \n",
       "10      \"Stephanie Laurens\"             2002        \"Avon Books\"   \n",
       "11      \"Stephanie Laurens\"             2002        \"Avon Books\"   \n",
       "12      \"Stephanie Laurens\"             2002        \"Avon Books\"   \n",
       "13      \"Stephanie Laurens\"             2002        \"Avon Books\"   \n",
       "14      \"Stephanie Laurens\"             2002        \"Avon Books\"   \n",
       "15      \"Stephanie Laurens\"             2002        \"Avon Books\"   \n",
       "16      \"Stephanie Laurens\"             2002        \"Avon Books\"   \n",
       "17      \"Stephanie Laurens\"             2002        \"Avon Books\"   \n",
       "18      \"Stephanie Laurens\"             2002        \"Avon Books\"   \n",
       "19      \"Stephanie Laurens\"             2002        \"Avon Books\"   \n",
       "\n",
       "                                                Image  num_of_rating  \n",
       "0   \"http://images.amazon.com/images/P/0026217457....              7  \n",
       "1   \"http://images.amazon.com/images/P/0026217457....              7  \n",
       "2   \"http://images.amazon.com/images/P/0026217457....              7  \n",
       "3   \"http://images.amazon.com/images/P/0026217457....              7  \n",
       "4   \"http://images.amazon.com/images/P/0026217457....              7  \n",
       "5   \"http://images.amazon.com/images/P/0026217457....              7  \n",
       "6   \"http://images.amazon.com/images/P/0026217457....              7  \n",
       "7   \"http://images.amazon.com/images/P/003008685X....              1  \n",
       "8   \"http://images.amazon.com/images/P/0060002050....             13  \n",
       "9   \"http://images.amazon.com/images/P/0060002050....             13  \n",
       "10  \"http://images.amazon.com/images/P/0060002050....             13  \n",
       "11  \"http://images.amazon.com/images/P/0060002050....             13  \n",
       "12  \"http://images.amazon.com/images/P/0060002050....             13  \n",
       "13  \"http://images.amazon.com/images/P/0060002050....             13  \n",
       "14  \"http://images.amazon.com/images/P/0060002050....             13  \n",
       "15  \"http://images.amazon.com/images/P/0060002050....             13  \n",
       "16  \"http://images.amazon.com/images/P/0060002050....             13  \n",
       "17  \"http://images.amazon.com/images/P/0060002050....             13  \n",
       "18  \"http://images.amazon.com/images/P/0060002050....             13  \n",
       "19  \"http://images.amazon.com/images/P/0060002050....             13  "
      ]
     },
     "execution_count": 40,
     "metadata": {},
     "output_type": "execute_result"
    }
   ],
   "source": [
    "final_rating = ratings_with_books.merge(number_rating, on='Title')\n",
    "final_rating.head(20)"
   ]
  },
  {
   "cell_type": "code",
   "execution_count": 41,
   "metadata": {},
   "outputs": [
    {
     "data": {
      "text/plain": [
       "(403748, 9)"
      ]
     },
     "execution_count": 41,
     "metadata": {},
     "output_type": "execute_result"
    }
   ],
   "source": [
    "final_rating.shape"
   ]
  },
  {
   "cell_type": "code",
   "execution_count": 42,
   "metadata": {},
   "outputs": [
    {
     "data": {
      "text/plain": [
       "(53448, 9)"
      ]
     },
     "execution_count": 42,
     "metadata": {},
     "output_type": "execute_result"
    }
   ],
   "source": [
    "final_rating = final_rating[final_rating['num_of_rating'] >= 50]\n",
    "final_rating.shape\n"
   ]
  },
  {
   "cell_type": "code",
   "execution_count": 43,
   "metadata": {},
   "outputs": [
    {
     "data": {
      "text/plain": [
       "(51757, 9)"
      ]
     },
     "execution_count": 43,
     "metadata": {},
     "output_type": "execute_result"
    }
   ],
   "source": [
    "final_rating.drop_duplicates(['User-ID','Title'],inplace=True)\n",
    "final_rating.shape"
   ]
  },
  {
   "cell_type": "code",
   "execution_count": 44,
   "metadata": {},
   "outputs": [],
   "source": [
    "final_rating.to_excel(\"clean_rating2.xlsx\", index=False)"
   ]
  },
  {
   "cell_type": "code",
   "execution_count": 14,
   "metadata": {},
   "outputs": [],
   "source": [
    "df.to_excel(\"clean_books2.xlsx\", index=False)"
   ]
  }
 ],
 "metadata": {
  "kernelspec": {
   "display_name": "base",
   "language": "python",
   "name": "python3"
  },
  "language_info": {
   "codemirror_mode": {
    "name": "ipython",
    "version": 3
   },
   "file_extension": ".py",
   "mimetype": "text/x-python",
   "name": "python",
   "nbconvert_exporter": "python",
   "pygments_lexer": "ipython3",
   "version": "3.11.7"
  }
 },
 "nbformat": 4,
 "nbformat_minor": 2
}
